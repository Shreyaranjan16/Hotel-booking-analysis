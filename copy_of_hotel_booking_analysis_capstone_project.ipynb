{
  "nbformat": 4,
  "nbformat_minor": 0,
  "metadata": {
    "kernelspec": {
      "display_name": "Python 3",
      "language": "python",
      "name": "python3"
    },
    "language_info": {
      "codemirror_mode": {
        "name": "ipython",
        "version": 3
      },
      "file_extension": ".py",
      "mimetype": "text/x-python",
      "name": "python",
      "nbconvert_exporter": "python",
      "pygments_lexer": "ipython3",
      "version": "3.6.6"
    },
    "colab": {
      "provenance": [],
      "include_colab_link": true
    }
  },
  "cells": [
    {
      "cell_type": "markdown",
      "metadata": {
        "id": "view-in-github",
        "colab_type": "text"
      },
      "source": [
        "<a href=\"https://colab.research.google.com/github/Shreyaranjan16/Hotel-booking-analysis/blob/main/copy_of_hotel_booking_analysis_capstone_project.ipynb\" target=\"_parent\"><img src=\"https://colab.research.google.com/assets/colab-badge.svg\" alt=\"Open In Colab\"/></a>"
      ]
    },
    {
      "cell_type": "markdown",
      "metadata": {
        "id": "Y06xIdG26kRF"
      },
      "source": [
        "## <b> Have you ever wondered when the best time of year to book a hotel room is? Or the optimal length of stay in order to get the best daily rate? What if you wanted to predict whether or not a hotel was likely to receive a disproportionately high number of special requests? This hotel booking dataset can help you explore those questions!\n",
        "\n",
        "## <b>This data set contains booking information for a city hotel and a resort hotel, and includes information such as when the booking was made, length of stay, the number of adults, children, and/or babies, and the number of available parking spaces, among other things. All personally identifying information has been removed from the data. </b>\n",
        "\n",
        "## <b> Explore and analyze the data to discover important factors that govern the bookings. </b>"
      ]
    },
    {
      "cell_type": "code",
      "metadata": {
        "id": "dByMsuzT8Tnw"
      },
      "source": [
        "#Importing the librarires going to use in the Analysis\n",
        "\n",
        "import numpy as np\n",
        "import pandas as pd\n",
        "import matplotlib.pyplot as plt\n",
        "import seaborn as sns\n",
        "import missingno as msno\n",
        "import folium\n",
        "from folium.plugins import HeatMap\n",
        "import plotly.express as px\n",
        "%matplotlib inline"
      ],
      "execution_count": null,
      "outputs": []
    },
    {
      "cell_type": "code",
      "source": [
        "%lsmagic"
      ],
      "metadata": {
        "id": "EHhrWpodtey6",
        "colab": {
          "base_uri": "https://localhost:8080/",
          "height": 225
        },
        "outputId": "645263c7-1cdb-4dd6-8a6b-33d32e49cd75"
      },
      "execution_count": null,
      "outputs": [
        {
          "output_type": "execute_result",
          "data": {
            "text/plain": [
              "Available line magics:\n",
              "%alias  %alias_magic  %autoawait  %autocall  %automagic  %autosave  %bookmark  %cat  %cd  %clear  %colors  %conda  %config  %connect_info  %cp  %debug  %dhist  %dirs  %doctest_mode  %ed  %edit  %env  %gui  %hist  %history  %killbgscripts  %ldir  %less  %lf  %lk  %ll  %load  %load_ext  %loadpy  %logoff  %logon  %logstart  %logstate  %logstop  %ls  %lsmagic  %lx  %macro  %magic  %man  %matplotlib  %mkdir  %more  %mv  %notebook  %page  %pastebin  %pdb  %pdef  %pdoc  %pfile  %pinfo  %pinfo2  %pip  %popd  %pprint  %precision  %prun  %psearch  %psource  %pushd  %pwd  %pycat  %pylab  %qtconsole  %quickref  %recall  %rehashx  %reload_ext  %rep  %rerun  %reset  %reset_selective  %rm  %rmdir  %run  %save  %sc  %set_env  %shell  %store  %sx  %system  %tb  %tensorflow_version  %time  %timeit  %unalias  %unload_ext  %who  %who_ls  %whos  %xdel  %xmode\n",
              "\n",
              "Available cell magics:\n",
              "%%!  %%HTML  %%SVG  %%bash  %%bigquery  %%capture  %%debug  %%file  %%html  %%javascript  %%js  %%latex  %%markdown  %%perl  %%prun  %%pypy  %%python  %%python2  %%python3  %%ruby  %%script  %%sh  %%shell  %%svg  %%sx  %%system  %%time  %%timeit  %%writefile\n",
              "\n",
              "Automagic is ON, % prefix IS NOT needed for line magics."
            ],
            "application/json": {
              "line": {
                "automagic": "AutoMagics",
                "autocall": "AutoMagics",
                "alias_magic": "BasicMagics",
                "lsmagic": "BasicMagics",
                "magic": "BasicMagics",
                "page": "BasicMagics",
                "pprint": "BasicMagics",
                "colors": "BasicMagics",
                "xmode": "BasicMagics",
                "quickref": "BasicMagics",
                "doctest_mode": "BasicMagics",
                "gui": "BasicMagics",
                "precision": "BasicMagics",
                "notebook": "BasicMagics",
                "save": "CodeMagics",
                "pastebin": "CodeMagics",
                "loadpy": "CodeMagics",
                "load": "CodeMagics",
                "edit": "KernelMagics",
                "config": "ConfigMagics",
                "prun": "ExecutionMagics",
                "pdb": "ExecutionMagics",
                "debug": "ExecutionMagics",
                "tb": "ExecutionMagics",
                "run": "ExecutionMagics",
                "timeit": "ExecutionMagics",
                "time": "ExecutionMagics",
                "macro": "ExecutionMagics",
                "load_ext": "ExtensionMagics",
                "unload_ext": "ExtensionMagics",
                "reload_ext": "ExtensionMagics",
                "history": "HistoryMagics",
                "recall": "HistoryMagics",
                "rerun": "HistoryMagics",
                "logstart": "LoggingMagics",
                "logstop": "LoggingMagics",
                "logoff": "LoggingMagics",
                "logon": "LoggingMagics",
                "logstate": "LoggingMagics",
                "pinfo": "NamespaceMagics",
                "pinfo2": "NamespaceMagics",
                "pdef": "NamespaceMagics",
                "pdoc": "NamespaceMagics",
                "psource": "NamespaceMagics",
                "pfile": "NamespaceMagics",
                "psearch": "NamespaceMagics",
                "who_ls": "NamespaceMagics",
                "who": "NamespaceMagics",
                "whos": "NamespaceMagics",
                "reset": "NamespaceMagics",
                "reset_selective": "NamespaceMagics",
                "xdel": "NamespaceMagics",
                "alias": "OSMagics",
                "unalias": "OSMagics",
                "rehashx": "OSMagics",
                "pwd": "OSMagics",
                "cd": "OSMagics",
                "env": "OSMagics",
                "set_env": "OSMagics",
                "pushd": "OSMagics",
                "popd": "OSMagics",
                "dirs": "OSMagics",
                "dhist": "OSMagics",
                "sc": "OSMagics",
                "sx": "OSMagics",
                "system": "OSMagics",
                "bookmark": "OSMagics",
                "pycat": "OSMagics",
                "pip": "Other",
                "conda": "PackagingMagics",
                "matplotlib": "PylabMagics",
                "pylab": "PylabMagics",
                "killbgscripts": "ScriptMagics",
                "autoawait": "AsyncMagics",
                "ed": "Other",
                "hist": "Other",
                "rep": "Other",
                "clear": "KernelMagics",
                "less": "KernelMagics",
                "more": "KernelMagics",
                "man": "KernelMagics",
                "connect_info": "KernelMagics",
                "qtconsole": "KernelMagics",
                "autosave": "KernelMagics",
                "mkdir": "Other",
                "rmdir": "Other",
                "mv": "Other",
                "rm": "Other",
                "cp": "Other",
                "cat": "Other",
                "ls": "Other",
                "ll": "Other",
                "lf": "Other",
                "lk": "Other",
                "ldir": "Other",
                "lx": "Other",
                "store": "StoreMagics",
                "shell": "Other",
                "tensorflow_version": "Other"
              },
              "cell": {
                "js": "DisplayMagics",
                "javascript": "DisplayMagics",
                "latex": "DisplayMagics",
                "svg": "DisplayMagics",
                "html": "DisplayMagics",
                "markdown": "DisplayMagics",
                "prun": "ExecutionMagics",
                "debug": "ExecutionMagics",
                "timeit": "ExecutionMagics",
                "time": "ExecutionMagics",
                "capture": "ExecutionMagics",
                "sx": "OSMagics",
                "system": "OSMagics",
                "!": "OSMagics",
                "writefile": "OSMagics",
                "script": "ScriptMagics",
                "sh": "Other",
                "bash": "Other",
                "perl": "Other",
                "ruby": "Other",
                "python": "Other",
                "python2": "Other",
                "python3": "Other",
                "pypy": "Other",
                "SVG": "Other",
                "HTML": "Other",
                "file": "Other",
                "bigquery": "Other",
                "shell": "Other"
              }
            }
          },
          "metadata": {},
          "execution_count": 2
        }
      ]
    },
    {
      "cell_type": "code",
      "source": [
        "# Importing the data set"
      ],
      "metadata": {
        "id": "EIy2bvG6tyEf"
      },
      "execution_count": null,
      "outputs": []
    },
    {
      "cell_type": "code",
      "source": [
        "from google.colab import drive\n",
        "drive.mount('/content/drive')"
      ],
      "metadata": {
        "id": "6qd1QI0Ft3Ei"
      },
      "execution_count": null,
      "outputs": []
    },
    {
      "cell_type": "code",
      "source": [
        "df=pd.read_csv('/content/drive/MyDrive/Hotel analysis EDA/Hotel Bookings.csv')"
      ],
      "metadata": {
        "id": "78-6AjwRt4QD"
      },
      "execution_count": null,
      "outputs": []
    },
    {
      "cell_type": "code",
      "source": [
        "#Total rows and columns  of data frame\n",
        "df.shape"
      ],
      "metadata": {
        "id": "nWXKcGOzNA86"
      },
      "execution_count": null,
      "outputs": []
    },
    {
      "cell_type": "code",
      "source": [
        "# Getting the information of the data frame "
      ],
      "metadata": {
        "id": "CE9i5m07-eKA"
      },
      "execution_count": null,
      "outputs": []
    },
    {
      "cell_type": "code",
      "source": [
        "df.info()"
      ],
      "metadata": {
        "id": "rX_fT-rmvE39"
      },
      "execution_count": null,
      "outputs": []
    },
    {
      "cell_type": "code",
      "source": [
        "#Getting the starting 5 information about the dataset\n",
        "df.head()"
      ],
      "metadata": {
        "id": "KB_PkD_6vI2w"
      },
      "execution_count": null,
      "outputs": []
    },
    {
      "cell_type": "markdown",
      "source": [
        "# #Getting a last 5 information about the data set"
      ],
      "metadata": {
        "id": "Et5OJcVdOw_6"
      }
    },
    {
      "cell_type": "code",
      "source": [
        "df.tail()"
      ],
      "metadata": {
        "id": "SoKEU10eNctu"
      },
      "execution_count": null,
      "outputs": []
    },
    {
      "cell_type": "markdown",
      "source": [
        "# Getting the information about the null value."
      ],
      "metadata": {
        "id": "61aCBWrFHkrR"
      }
    },
    {
      "cell_type": "code",
      "source": [
        "df.isnull().sum()"
      ],
      "metadata": {
        "id": "b1qYKQhovnzp"
      },
      "execution_count": null,
      "outputs": []
    },
    {
      "cell_type": "markdown",
      "source": [
        "# Visualization of null values"
      ],
      "metadata": {
        "id": "ZqQEytHmNqR4"
      }
    },
    {
      "cell_type": "code",
      "source": [
        "msno.bar(df)\n",
        "plt.show()"
      ],
      "metadata": {
        "id": "7YcGUpG-Ax3L"
      },
      "execution_count": null,
      "outputs": []
    },
    {
      "cell_type": "markdown",
      "source": [
        "##Filling the null data values with 0 and creating a new data frame\n"
      ],
      "metadata": {
        "id": "TNh16RYdNyIQ"
      }
    },
    {
      "cell_type": "code",
      "source": [
        "\n",
        "df2=df.fillna(value=0)"
      ],
      "metadata": {
        "id": "EbH7qRGqN6Ro"
      },
      "execution_count": null,
      "outputs": []
    },
    {
      "cell_type": "code",
      "source": [],
      "metadata": {
        "id": "BEZu0bElNbRS"
      },
      "execution_count": null,
      "outputs": []
    },
    {
      "cell_type": "markdown",
      "source": [
        "# Checking again whether null values are there or replaced."
      ],
      "metadata": {
        "id": "KKld24S3OBDc"
      }
    },
    {
      "cell_type": "code",
      "source": [
        "df2.isnull().sum()"
      ],
      "metadata": {
        "id": "LWm-pNrvRGU_"
      },
      "execution_count": null,
      "outputs": []
    },
    {
      "cell_type": "markdown",
      "source": [
        "# Getting a columns name "
      ],
      "metadata": {
        "id": "8Rii1eoyOWgh"
      }
    },
    {
      "cell_type": "code",
      "source": [
        "df2.columns"
      ],
      "metadata": {
        "id": "fCRG0CNCRKaa"
      },
      "execution_count": null,
      "outputs": []
    },
    {
      "cell_type": "markdown",
      "source": [
        "# Information about the descriptions of th data set."
      ],
      "metadata": {
        "id": "2RFgXSZnOeVs"
      }
    },
    {
      "cell_type": "code",
      "source": [
        "df2.describe()"
      ],
      "metadata": {
        "id": "BzAeMYlHRa5m"
      },
      "execution_count": null,
      "outputs": []
    },
    {
      "cell_type": "markdown",
      "source": [
        "#             DATA ANALYSIS AND VISUALIZATION"
      ],
      "metadata": {
        "id": "HOGHpY6sPGlD"
      }
    },
    {
      "cell_type": "code",
      "source": [
        "#Finding the types of data in the data frame"
      ],
      "metadata": {
        "id": "D4Bi2gspRiv6"
      },
      "execution_count": null,
      "outputs": []
    },
    {
      "cell_type": "code",
      "source": [
        "df2.dtypes.value_counts()"
      ],
      "metadata": {
        "id": "aIB42To659qz"
      },
      "execution_count": null,
      "outputs": []
    },
    {
      "cell_type": "markdown",
      "source": [
        "**Finding the values each hotels have**"
      ],
      "metadata": {
        "id": "E3pRxee5Pjx1"
      }
    },
    {
      "cell_type": "code",
      "source": [
        "df2['hotel'].value_counts()"
      ],
      "metadata": {
        "id": "QEBpcCrVzQhX"
      },
      "execution_count": null,
      "outputs": []
    },
    {
      "cell_type": "markdown",
      "source": [
        "*The above table shows that maximum number of information is from city hotel*"
      ],
      "metadata": {
        "id": "oQgLYDMvP2qI"
      }
    },
    {
      "cell_type": "markdown",
      "source": [
        "**After the hotel information we will get the information about the arrival date as per month**"
      ],
      "metadata": {
        "id": "Wlx5bHlxQCnR"
      }
    },
    {
      "cell_type": "code",
      "source": [
        "df2['arrival_date_month'].value_counts()"
      ],
      "metadata": {
        "id": "CE7Gij-U4wmt"
      },
      "execution_count": null,
      "outputs": []
    },
    {
      "cell_type": "markdown",
      "source": [
        "# Now we will visualize the information that we found above i.e Hotel and arrival date as per month"
      ],
      "metadata": {
        "id": "gb5CADJeQTFB"
      }
    },
    {
      "cell_type": "code",
      "source": [
        "\n",
        "colours = [\"maroon\", \"navy\",]\n",
        "\n",
        "plt.figure(figsize=(12,4))\n",
        "sns.countplot(x='arrival_date_month', hue = 'hotel', data= df2,palette=colours )\n",
        "plt.title('Months of Arrival')\n",
        "plt.show()"
      ],
      "metadata": {
        "id": "2tAkYYWW7sfW"
      },
      "execution_count": null,
      "outputs": []
    },
    {
      "cell_type": "markdown",
      "source": [
        "*The above plot clearly shows that maximum number of guest are visiting in august month in both the hotel.*"
      ],
      "metadata": {
        "id": "y8y7ahxAQsw-"
      }
    },
    {
      "cell_type": "markdown",
      "source": [
        "# Now we will find the busiest year or the year in which we have a maximum guest in the hotel"
      ],
      "metadata": {
        "id": "5bP731tDRCzY"
      }
    },
    {
      "cell_type": "markdown",
      "source": [
        "**Getting a total count year wise**"
      ],
      "metadata": {
        "id": "aE5auU7oRfPX"
      }
    },
    {
      "cell_type": "code",
      "source": [
        "df2['arrival_date_year'].value_counts()"
      ],
      "metadata": {
        "id": "9A1MPvx29BsC"
      },
      "execution_count": null,
      "outputs": []
    },
    {
      "cell_type": "markdown",
      "source": [
        "# Visualization of the year in which maximum guest arrive."
      ],
      "metadata": {
        "id": "KomX3RfORqEo"
      }
    },
    {
      "cell_type": "code",
      "source": [
        "\n",
        "plt.figure(figsize=(12,4))\n",
        "df.arrival_date_year.value_counts(normalize=True).plot(kind=\"bar\",color='Gold',)\n",
        "                                                         \n",
        "plt.show()"
      ],
      "metadata": {
        "id": "658aAnNKFH5C"
      },
      "execution_count": null,
      "outputs": []
    },
    {
      "cell_type": "markdown",
      "source": [
        "*The above graph clearly shows that maximum number of guest arrived in 2016 i.e 56707*"
      ],
      "metadata": {
        "id": "q4Ze3eudR-ON"
      }
    },
    {
      "cell_type": "markdown",
      "source": [
        "# How does the price vary per night over the year?"
      ],
      "metadata": {
        "id": "3RX_XBckDgYX"
      }
    },
    {
      "cell_type": "code",
      "source": [
        "data_resort = df2[(df2['hotel'] == 'Resort Hotel') & (df2['is_canceled'] == 0)]\n",
        "data_city = df2[(df2['hotel'] == 'City Hotel') & (df2['is_canceled'] == 0)]\n"
      ],
      "metadata": {
        "id": "MLb-bc5LH_xh"
      },
      "execution_count": null,
      "outputs": []
    },
    {
      "cell_type": "markdown",
      "source": [
        " **Resort hotel ADR analysis**"
      ],
      "metadata": {
        "id": "MAHKE9buDuDa"
      }
    },
    {
      "cell_type": "code",
      "source": [
        "resort_hotel = data_resort.groupby(['arrival_date_month'])['adr'].mean().reset_index()\n",
        "resort_hotel"
      ],
      "metadata": {
        "id": "fQopXUC7X8Ot"
      },
      "execution_count": null,
      "outputs": []
    },
    {
      "cell_type": "markdown",
      "source": [
        "# Visualization of Resort hotel as per average distributed rate."
      ],
      "metadata": {
        "id": "IQ1rcyRER8xS"
      }
    },
    {
      "cell_type": "code",
      "source": [
        "date_month_resort_hotel=resort_hotel['arrival_date_month']\n",
        "average_distributed_rate=resort_hotel['adr']\n",
        "c='violet'\n",
        "fig = plt.figure(figsize =(15,5))\n",
        "#Creating the bar plot\n",
        "plt.bar(date_month_resort_hotel, average_distributed_rate,color = c)\n",
        "plt.xlabel(\"date month of resort hotel\")\n",
        "plt.ylabel(\"Adr\")\n",
        "plt.title(\"Adr per month for resort hotel\")\n",
        "plt.show()"
      ],
      "metadata": {
        "id": "HRYYWazCkaaC"
      },
      "execution_count": null,
      "outputs": []
    },
    {
      "cell_type": "markdown",
      "source": [
        "*This graph shows that august is having a highest average distributed rate followed by july and june.*"
      ],
      "metadata": {
        "id": "Ynq6QdaoSnso"
      }
    },
    {
      "cell_type": "markdown",
      "source": [
        " **CITY RESORT ADR REVIEW**"
      ],
      "metadata": {
        "id": "uREoIpmqD_sv"
      }
    },
    {
      "cell_type": "code",
      "source": [
        "city_hotel=data_city.groupby(['arrival_date_month'])['adr'].mean().reset_index()\n",
        "city_hotel"
      ],
      "metadata": {
        "id": "ELGySJwuC9rA"
      },
      "execution_count": null,
      "outputs": []
    },
    {
      "cell_type": "markdown",
      "source": [
        "# Visualization of city hotel as per average distributed rate."
      ],
      "metadata": {
        "id": "QRjpZq38S_g3"
      }
    },
    {
      "cell_type": "code",
      "source": [
        "date_month_city_hotel=city_hotel['arrival_date_month']\n",
        "average_distributed_rate=city_hotel['adr']\n",
        "fig = plt.figure(figsize =(15,5))\n",
        "g='Green'\n",
        "#Creating the bar plot\n",
        "plt.bar(date_month_city_hotel, average_distributed_rate,color='g')\n",
        "plt.xlabel(\"date month of city hotel\")\n",
        "plt.ylabel(\"Adr\")\n",
        "plt.title(\"Adr per month for city hotel\")\n",
        "plt.show()"
      ],
      "metadata": {
        "id": "2RQ2w6biETcH"
      },
      "execution_count": null,
      "outputs": []
    },
    {
      "cell_type": "markdown",
      "source": [
        "the graph shows that august is having a highest averahe distributed rangefollowed by june and july*"
      ],
      "metadata": {
        "id": "nwbucT0oTNIU"
      }
    },
    {
      "cell_type": "markdown",
      "source": [
        "# Now we will analyse from which part of the country people are coming in  the hotel and from which country maximum guest came."
      ],
      "metadata": {
        "id": "2Yz9hUAXTZbk"
      }
    },
    {
      "cell_type": "code",
      "source": [
        "country_wise_guests = df2[df2['is_canceled'] == 0]['country'].value_counts().reset_index()\n",
        "country_wise_guests.columns = ['country', 'No of guests']\n",
        "country_wise_guests"
      ],
      "metadata": {
        "id": "icSAa-K9Eoak"
      },
      "execution_count": null,
      "outputs": []
    },
    {
      "cell_type": "markdown",
      "source": [
        "# Visualizing the above table as per the map."
      ],
      "metadata": {
        "id": "bVtYgTgfT7Ba"
      }
    },
    {
      "cell_type": "code",
      "source": [
        "basemap = folium.Map()\n",
        "guests_map = px.choropleth(country_wise_guests, locations = country_wise_guests['country'],\n",
        "                           color = country_wise_guests['No of guests'], hover_name = country_wise_guests['country'])\n",
        "guests_map.show()"
      ],
      "metadata": {
        "id": "UjNZJiZi_n5J"
      },
      "execution_count": null,
      "outputs": []
    },
    {
      "cell_type": "markdown",
      "source": [
        "\\*Most guest are from Portugal and other Europian contries.*"
      ],
      "metadata": {
        "id": "Wm_ziT5tUxdL"
      }
    },
    {
      "cell_type": "markdown",
      "source": [
        "# Information about the type of customer coming in the hotel"
      ],
      "metadata": {
        "id": "pQJZR2eZU5TX"
      }
    },
    {
      "cell_type": "code",
      "source": [
        "df2['customer_type'].value_counts()"
      ],
      "metadata": {
        "id": "w0_kL62_Bhgc"
      },
      "execution_count": null,
      "outputs": []
    },
    {
      "cell_type": "markdown",
      "source": [
        "# Visualization of type of customer "
      ],
      "metadata": {
        "id": "z28MO_X_VGMz"
      }
    },
    {
      "cell_type": "code",
      "source": [
        "plt.figure(figsize=(12,5))\n",
        "df2.customer_type.value_counts(normalize=True).plot(kind=\"bar\",color='yellow')\n",
        "plt.show()"
      ],
      "metadata": {
        "id": "QRQ6FcSSCnDI"
      },
      "execution_count": null,
      "outputs": []
    },
    {
      "cell_type": "markdown",
      "source": [
        "*Maximum number of customer is from transient type followed by transient party*"
      ],
      "metadata": {
        "id": "syk7RsYtV80o"
      }
    },
    {
      "cell_type": "markdown",
      "source": [
        "# Next from the data set we are going to determine the type of deposit and finding the prefreable deposit type"
      ],
      "metadata": {
        "id": "HZpASfHOxIEt"
      }
    },
    {
      "cell_type": "code",
      "source": [
        "df2['deposit_type'].value_counts()"
      ],
      "metadata": {
        "id": "PimC0QX-DA2B"
      },
      "execution_count": null,
      "outputs": []
    },
    {
      "cell_type": "markdown",
      "source": [
        "# Visualization of the type of deposit"
      ],
      "metadata": {
        "id": "v-HhQM-BxAed"
      }
    },
    {
      "cell_type": "code",
      "source": [
        "plt.figure(figsize=(19,7))\n",
        "p ='purple'\n",
        "df2.deposit_type.value_counts(normalize=True).plot(kind=\"line\",color=p)\n",
        "plt.xlabel(\"Type of deposit\")\n",
        "plt.ylabel(\"count\")   \n",
        "plt.title(\"count of types of deposit\")                                                     \n",
        "plt.show()"
      ],
      "metadata": {
        "id": "4wTTBHSXDeUk"
      },
      "execution_count": null,
      "outputs": []
    },
    {
      "cell_type": "markdown",
      "source": [
        "*From the above data and graph it is clearly seen at more people are prefering the no deposit as compared to non refund and refundable.And the data set also show that people are prefering the non refund as compared to refundable.*"
      ],
      "metadata": {
        "id": "sP2Pni-uxjQO"
      }
    },
    {
      "cell_type": "markdown",
      "source": [
        "# Now lets go and find out which type of meal people are prefering while staying in the hotel"
      ],
      "metadata": {
        "id": "MKJ0EQkIyIpu"
      }
    },
    {
      "cell_type": "code",
      "source": [
        "df2['meal'].value_counts().reset_index()"
      ],
      "metadata": {
        "id": "Q6eUWE5ne1oo"
      },
      "execution_count": null,
      "outputs": []
    },
    {
      "cell_type": "markdown",
      "source": [
        "# Visualizing the meals prefered by guest"
      ],
      "metadata": {
        "id": "6K-yE-tNyZH9"
      }
    },
    {
      "cell_type": "code",
      "source": [
        "plt.figure( figsize=(10, 8))\n",
        "\n",
        "sns.countplot(x = df2['meal'])\n",
        "plt.show()"
      ],
      "metadata": {
        "id": "wn7I1ZZL96uq"
      },
      "execution_count": null,
      "outputs": []
    },
    {
      "cell_type": "markdown",
      "source": [
        "*The above graph clearly shows that people are prefering BB and the least meal in which people are intrested is FB.*"
      ],
      "metadata": {
        "id": "45Z76LRxyk83"
      }
    },
    {
      "cell_type": "markdown",
      "source": [
        "# Come on, Lets see till now how much people have visited the hotel and which hotel have hosted the maximum guest"
      ],
      "metadata": {
        "id": "8P0X_V3Iy52X"
      }
    },
    {
      "cell_type": "markdown",
      "source": [
        "**Total number of guest ** \n"
      ],
      "metadata": {
        "id": "QZKx21LszOgr"
      }
    },
    {
      "cell_type": "code",
      "source": [
        "df2['total_people']=df2['adults']+df2['children']+df2['babies']\n",
        "df2['total_people'].sum()"
      ],
      "metadata": {
        "id": "1v6xd_LHIV7C"
      },
      "execution_count": null,
      "outputs": []
    },
    {
      "cell_type": "markdown",
      "source": [
        "**Hotel wise people in the hotels**"
      ],
      "metadata": {
        "id": "KWPqz9w15Frl"
      }
    },
    {
      "cell_type": "code",
      "source": [
        "hotel_people=df2.groupby(['hotel'])['total_people'].sum().reset_index()\n",
        "hotel_people"
      ],
      "metadata": {
        "id": "yZAoTGvfOmId"
      },
      "execution_count": null,
      "outputs": []
    },
    {
      "cell_type": "markdown",
      "source": [
        "# Visualization of the number of people in a hotel"
      ],
      "metadata": {
        "id": "033ayIgK5Sew"
      }
    },
    {
      "cell_type": "code",
      "source": [
        "hotel=hotel_people['hotel']\n",
        "people=hotel_people['total_people']\n",
        "fig = plt.figure(figsize =(15,5))\n",
        "a='pink','violet'\n",
        "#Creating the bar plot\n",
        "plt.bar(hotel, people,color=a)\n",
        "plt.xlabel(\"Hotel name\")\n",
        "plt.ylabel(\"No of people\")\n",
        "plt.title(\"total no of stay in hotel\")\n",
        "plt.show()"
      ],
      "metadata": {
        "id": "UFczkk_ecCVz"
      },
      "execution_count": null,
      "outputs": []
    },
    {
      "cell_type": "markdown",
      "source": [
        "*The graph clearly shows that maximum number of people are visiting city hotel.*"
      ],
      "metadata": {
        "id": "2KCUfiwA5sVU"
      }
    },
    {
      "cell_type": "markdown",
      "source": [
        "# Before determining the market segment lets know what market segment is .Market segmentation is a marketing strategy in which select groups of consumers are identified so that certain products or product lines can be presented to them in a way that appeals to their interests"
      ],
      "metadata": {
        "id": "xExQTf5E54vb"
      }
    },
    {
      "cell_type": "markdown",
      "source": [
        "**Types of market segment with there values**"
      ],
      "metadata": {
        "id": "5EymCX2u6aaz"
      }
    },
    {
      "cell_type": "code",
      "source": [
        "df2['market_segment'].value_counts().reset_index()"
      ],
      "metadata": {
        "id": "PN2kH2OFP9b8"
      },
      "execution_count": null,
      "outputs": []
    },
    {
      "cell_type": "markdown",
      "source": [
        "# Visualization of market segment "
      ],
      "metadata": {
        "id": "kPkC-pEN6qbC"
      }
    },
    {
      "cell_type": "code",
      "source": [
        "plt.figure(figsize=(19,7))\n",
        "p ='red'\n",
        "df2.market_segment.value_counts(normalize=True).plot(kind=\"line\",color=p)\n",
        "plt.xlabel(\"Type of market\")\n",
        "plt.ylabel(\"count\")   \n",
        "plt.title(\"types of market segment\")                                                     \n",
        "plt.show()"
      ],
      "metadata": {
        "id": "IeChW4igXDw7"
      },
      "execution_count": null,
      "outputs": []
    },
    {
      "cell_type": "markdown",
      "source": [
        "The highest segment of market that hotels are getting is Online TA  and they should focus more on online TA compared to other type of segment."
      ],
      "metadata": {
        "id": "PIuwYcNS6_SH"
      }
    },
    {
      "cell_type": "markdown",
      "source": [
        "# We are now doing a visualization of cancelled booking in both the hotel."
      ],
      "metadata": {
        "id": "m7_uaBMt8UpX"
      }
    },
    {
      "cell_type": "code",
      "source": [
        "plt.figure(figsize = (10, 5))\n",
        "\n",
        "sns.countplot(x = 'hotel', data = df, hue = 'is_canceled', palette = 'magma_r', alpha = 0.8).set(xlabel = None)\n",
        "plt.title('Cancelation rates by hotel')\n",
        "\n",
        "plt.tight_layout()"
      ],
      "metadata": {
        "id": "PY3ku6tMaLzV"
      },
      "execution_count": null,
      "outputs": []
    },
    {
      "cell_type": "markdown",
      "source": [
        " *here zero shows that much of booking is not cancelled and 1 represent the cancelled booking*\n",
        " *By the graph we can come to the conclusion city hotel booking are cancelled more than the resort hotel booking*"
      ],
      "metadata": {
        "id": "HbSEy3Cb9Kig"
      }
    },
    {
      "cell_type": "markdown",
      "source": [
        "# Now lets find out about the distribution channel which should be followed by the hotel."
      ],
      "metadata": {
        "id": "-X3DOD2r-Ftf"
      }
    },
    {
      "cell_type": "code",
      "source": [
        "df2['distribution_channel'].value_counts().reset_index()"
      ],
      "metadata": {
        "id": "lNvnbRB_asK7"
      },
      "execution_count": null,
      "outputs": []
    },
    {
      "cell_type": "markdown",
      "source": [
        "# Visualization of distribution channel"
      ],
      "metadata": {
        "id": "WKzEu9yJ-enM"
      }
    },
    {
      "cell_type": "code",
      "source": [
        "plt.figure(figsize=(19,7))\n",
        "\n",
        "df2.distribution_channel.value_counts(normalize=True).plot(kind=\"pie\")\n",
        "plt.xlabel(\"Distribution channel type\")\n",
        "plt.ylabel(\"count\")   \n",
        "plt.title(\"Distribution channel\")                                                     \n",
        "plt.show()\n"
      ],
      "metadata": {
        "id": "3WZOVlqF-iH9"
      },
      "execution_count": null,
      "outputs": []
    },
    {
      "cell_type": "markdown",
      "source": [
        "*The distribution channel TA/TO  is the most used distribution channel used by a hotel.*"
      ],
      "metadata": {
        "id": "_-CYAk0e_DE5"
      }
    },
    {
      "cell_type": "markdown",
      "source": [
        "# Now lets see how many guest require parking and which hotel get more number of people with parking requirement."
      ],
      "metadata": {
        "id": "YcZ1ja0yC3xv"
      }
    },
    {
      "cell_type": "markdown",
      "source": [
        "**Find the people require parking**"
      ],
      "metadata": {
        "id": "ONbWmiarI4Z0"
      }
    },
    {
      "cell_type": "code",
      "source": [
        "df2['required_car_parking_spaces'].value_counts().reset_index()"
      ],
      "metadata": {
        "id": "clYqLnd6Gg36"
      },
      "execution_count": null,
      "outputs": []
    },
    {
      "cell_type": "markdown",
      "source": [
        "**Hotel wise parking requirment**"
      ],
      "metadata": {
        "id": "0f53Q0TfJCc5"
      }
    },
    {
      "cell_type": "code",
      "source": [
        "parking_hotel=df2.groupby(['hotel'])['required_car_parking_spaces'].value_counts()\n",
        "parking_hotel"
      ],
      "metadata": {
        "id": "SKPnXp0-_SJ6"
      },
      "execution_count": null,
      "outputs": []
    },
    {
      "cell_type": "markdown",
      "source": [
        "# Visualization of the above data"
      ],
      "metadata": {
        "id": "2x2iHylQJKbT"
      }
    },
    {
      "cell_type": "code",
      "source": [
        "plt.figure(figsize = (10, 5))\n",
        "\n",
        "sns.countplot(x = 'hotel', data = df, hue = 'required_car_parking_spaces', palette = 'magma_r', alpha = 0.8).set(xlabel = None)\n",
        "plt.title('Parking requirement in both hotel')\n",
        "\n",
        "plt.tight_layout()"
      ],
      "metadata": {
        "id": "8UijkCEcH97Y"
      },
      "execution_count": null,
      "outputs": []
    },
    {
      "cell_type": "markdown",
      "source": [
        "The graph clearly shows that the maximum no of people not require parking but the people wh require need 1 parking.Very less people require more than 2 parking space."
      ],
      "metadata": {
        "id": "b4GG4kElJRTg"
      }
    },
    {
      "cell_type": "code",
      "source": [
        "plt.figure(figsize=(8,6))\n",
        "sns.countplot(data = df2, x = 'is_repeated_guest').set_title('Graph showing whether guest is repeated guest', fontsize = 20)\n",
        "plt.show()"
      ],
      "metadata": {
        "id": "zJlwWkKcKlIF"
      },
      "execution_count": null,
      "outputs": []
    },
    {
      "cell_type": "markdown",
      "source": [
        "*### Low number of repeated guests.\n",
        "### A need to target repeated guests since they have booked before. ***"
      ],
      "metadata": {
        "id": "MwC290A5LJx9"
      }
    },
    {
      "cell_type": "markdown",
      "source": [
        "# **Conclusion**"
      ],
      "metadata": {
        "id": "nb5ZYGk8JxPu"
      }
    },
    {
      "cell_type": "markdown",
      "source": [
        "### Majority of the hotels booked are city hotel. Definitely need to spend the most targeting fund on those hotel.\n",
        "### We also realise that the high rate of cancellations can be due high no deposit policies.\n",
        "### We should also target months between May to Aug. Those are peak months due to the summer period.\n",
        "### Majority of the guests are from Western Europe. We should spend a significant amount of our budget on those area.\n",
        "### Given that we do not have repeated guests, we should target our advertisement on guests to increase returning guests.\n",
        "### In terms of market segments and distribution channels, TA and TO have shown to be the strongest, followed by the direct channel with the hotel. In the last case, the use of this channel could be incentivized by means of a special offer."
      ],
      "metadata": {
        "id": "8KWDj4f_LVG0"
      }
    },
    {
      "cell_type": "code",
      "source": [],
      "metadata": {
        "id": "YkI3vaPBHd9y"
      },
      "execution_count": null,
      "outputs": []
    }
  ]
}